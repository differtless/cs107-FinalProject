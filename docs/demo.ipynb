{
 "cells": [
  {
   "cell_type": "markdown",
   "metadata": {
    "cell_id": "00000-c60daaf4-f922-4ef3-b264-c684509d5571",
    "deepnote_cell_type": "markdown"
   },
   "source": [
    "# Differtless Demo!"
   ]
  },
  {
   "cell_type": "code",
   "execution_count": 1,
   "metadata": {
    "cell_id": "00001-d61d474e-5483-40af-b38b-c160394ca2b1",
    "deepnote_cell_type": "code",
    "execution_millis": 77,
    "execution_start": 1607561184602,
    "output_cleared": true,
    "source_hash": null
   },
   "outputs": [],
   "source": [
    "from differtless import ad\n",
    "import differtless.operations as op"
   ]
  },
  {
   "cell_type": "markdown",
   "metadata": {
    "cell_id": "00002-e0743a9d-9d03-41fd-bd7d-65063668bdeb",
    "deepnote_cell_type": "markdown"
   },
   "source": [
    "## Basic Functionality (Forward Mode)"
   ]
  },
  {
   "cell_type": "markdown",
   "metadata": {
    "cell_id": "00003-fd8e4626-fb67-4850-9823-49e16b61ed87",
    "deepnote_cell_type": "markdown"
   },
   "source": [
    "*Define inputs*"
   ]
  },
  {
   "cell_type": "code",
   "execution_count": 2,
   "metadata": {
    "cell_id": "00004-d9385703-014f-4ba9-bc6f-4afe8819574c",
    "deepnote_cell_type": "code"
   },
   "outputs": [],
   "source": [
    "# scalar input\n",
    "single_scalar = [5]\n",
    "\n",
    "# multiple scalar inputs (include seed)\n",
    "multi_scalar = [2,3,4]\n",
    "\n",
    "# vector input\n",
    "single_vector = [[4,5,6]]\n",
    "\n",
    "# multiple vector inputs\n",
    "multi_vector = [[1,2,3],[4,5,6],[7,8,9]]\n",
    "\n",
    "# seed matrix for multivariable functions\n",
    "multi_seed = [[42,1,1],[2,42,1],[3,3,42]]"
   ]
  },
  {
   "cell_type": "markdown",
   "metadata": {
    "cell_id": "00005-e481268c-9e4d-4a51-8cff-735aeb900ab8",
    "deepnote_cell_type": "markdown"
   },
   "source": [
    "*Define functions*"
   ]
  },
  {
   "cell_type": "code",
   "execution_count": 3,
   "metadata": {
    "cell_id": "00006-08f281ba-5f84-4f47-af82-29c4fb08861f",
    "deepnote_cell_type": "code"
   },
   "outputs": [],
   "source": [
    "# single-variable\n",
    "def single_f1(x):\n",
    "    return op.exp(op.sin(x) ** 2)\n",
    "\n",
    "def single_f2(x):\n",
    "    return op.log(2 / x) - x\n",
    "\n",
    "# multivariable\n",
    "def multi_f1(x, y, z):\n",
    "    return (z ** (x - op.tanh(x + y)))/x\n",
    "\n",
    "def multi_f2(x, y, z):\n",
    "    return x ** (10 - y)"
   ]
  },
  {
   "cell_type": "markdown",
   "metadata": {
    "cell_id": "00007-beb349f3-ff7c-4dfc-9814-e02ea9df6987",
    "deepnote_cell_type": "markdown"
   },
   "source": [
    "### Preprocess Example:"
   ]
  },
  {
   "cell_type": "code",
   "execution_count": 4,
   "metadata": {
    "cell_id": "00008-f09aa9ed-e3a8-4a2d-be57-0da9ceb2a16d",
    "deepnote_cell_type": "code"
   },
   "outputs": [
    {
     "data": {
      "text/plain": [
       "[FuncInput([1 2 3], [1 0 0]),\n",
       " FuncInput([4 5 6], [0 1 0]),\n",
       " FuncInput([7 8 9], [0 0 1])]"
      ]
     },
     "execution_count": 4,
     "metadata": {},
     "output_type": "execute_result"
    }
   ],
   "source": [
    "ad.preprocess(multi_vector)"
   ]
  },
  {
   "cell_type": "markdown",
   "metadata": {
    "cell_id": "00009-4182eb8e-af75-4418-9442-20908a1740e0",
    "deepnote_cell_type": "markdown"
   },
   "source": [
    "### Scalar-valued functions"
   ]
  },
  {
   "cell_type": "markdown",
   "metadata": {
    "cell_id": "00010-44a33ec1-42ea-4234-bf4a-d85fab62adef",
    "deepnote_cell_type": "markdown"
   },
   "source": [
    "1. *Scalar input, scalar function, single variable*"
   ]
  },
  {
   "cell_type": "code",
   "execution_count": 5,
   "metadata": {
    "cell_id": "00011-77d2ac79-f482-4a30-840e-ba6a67679c35",
    "deepnote_cell_type": "code"
   },
   "outputs": [
    {
     "name": "stdout",
     "output_type": "stream",
     "text": [
      "Value = 2.5081257587058756\n",
      "Gradient = -1.3644733615014142\n",
      "Jacobian = -1.3644733615014142\n"
     ]
    }
   ],
   "source": [
    "forward1 = ad.forward(single_f1, single_scalar)\n",
    "jacobian1 = ad.Jacobian(single_f1, single_scalar)\n",
    "print(f'Value = {forward1.value}\\nGradient = {forward1.gradients}\\nJacobian = {jacobian1}')"
   ]
  },
  {
   "cell_type": "markdown",
   "metadata": {
    "cell_id": "00012-0c59ff3d-85fc-483b-8603-f583eb491cec",
    "deepnote_cell_type": "markdown"
   },
   "source": [
    "2. *Vector-input, scalar function, single variable*"
   ]
  },
  {
   "cell_type": "code",
   "execution_count": 6,
   "metadata": {
    "cell_id": "00013-59fa6346-c0f6-45e8-82cb-a2c86ad0454d",
    "deepnote_cell_type": "code"
   },
   "outputs": [
    {
     "name": "stdout",
     "output_type": "stream",
     "text": [
      "Value = [1.77313651 2.50812576 1.08120161]\n",
      "Gradient = [ 1.75426723 -1.36447336 -0.5801435 ]\n",
      "Jacobian = [ 1.75426723 -1.36447336 -0.5801435 ]\n"
     ]
    }
   ],
   "source": [
    "forward2 = ad.forward(single_f1, single_vector)\n",
    "jacobian2 = ad.Jacobian(single_f1, single_vector)\n",
    "print(f'Value = {forward2.value}\\nGradient = {forward2.gradients}\\nJacobian = {jacobian2}')"
   ]
  },
  {
   "cell_type": "markdown",
   "metadata": {
    "cell_id": "00014-a5fb7463-a271-406e-969d-210e8adf86b5",
    "deepnote_cell_type": "markdown"
   },
   "source": [
    "3. *Scalar input, scalar function, multivariable*"
   ]
  },
  {
   "cell_type": "code",
   "execution_count": 7,
   "metadata": {
    "cell_id": "00015-2528b822-b5fa-405e-abcd-13fbced0c18d",
    "deepnote_cell_type": "code"
   },
   "outputs": [
    {
     "name": "stdout",
     "output_type": "stream",
     "text": [
      "Value = 2.0002517550813823\n",
      "Gradient = [75.93626795  3.25148556 22.77635519]\n",
      "Jacobian = [ 1.77230833 -0.00050352  0.50010834]\n"
     ]
    }
   ],
   "source": [
    "forward3 = ad.forward(multi_f1, multi_scalar, multi_seed)\n",
    "jacobian3 = ad.Jacobian(multi_f1, multi_scalar)\n",
    "print(f'Value = {forward3.value}\\nGradient = {forward3.gradients}\\nJacobian = {jacobian3}')"
   ]
  },
  {
   "cell_type": "markdown",
   "metadata": {
    "cell_id": "00016-b068b533-2cd7-45f9-8234-78c7cb3f2db3",
    "deepnote_cell_type": "markdown"
   },
   "source": [
    "4. *Vector input, scalar function, multivariable*"
   ]
  },
  {
   "cell_type": "code",
   "execution_count": 8,
   "metadata": {
    "cell_id": "00017-e7329959-3031-419f-b732-7c60d0268bd1",
    "deepnote_cell_type": "code"
   },
   "outputs": [
    {
     "name": "stdout",
     "output_type": "stream",
     "text": [
      "Value = [ 1.0001767   4.00001383 27.00000181]\n",
      "Gradient =\n",
      "[[ 0.94572388  6.31776035 50.32506334]\n",
      " [-0.00035341 -0.00002767 -0.00000361]\n",
      " [ 0.00001297  0.50000256  6.00000049]]\n",
      "Jacobian =\n",
      "[[ 0.94572388  6.31776035 50.32506334]\n",
      " [-0.00035341 -0.00002767 -0.00000361]\n",
      " [ 0.00001297  0.50000256  6.00000049]]\n"
     ]
    }
   ],
   "source": [
    "forward4 = ad.forward(multi_f1, multi_vector)\n",
    "jacobian4 = ad.Jacobian(multi_f1, multi_vector)\n",
    "print(f'Value = {forward4.value}\\nGradient =\\n{forward4.gradients}\\nJacobian =\\n{jacobian4}')"
   ]
  },
  {
   "cell_type": "markdown",
   "metadata": {
    "cell_id": "00018-2a188bce-067a-4023-959d-95877dc478b7",
    "deepnote_cell_type": "markdown"
   },
   "source": [
    "### Vector-valued functions"
   ]
  },
  {
   "cell_type": "markdown",
   "metadata": {
    "cell_id": "00019-1330919c-ca1c-482d-a033-63377a5a416e",
    "deepnote_cell_type": "markdown"
   },
   "source": [
    "5. *Scalar input – single variable*"
   ]
  },
  {
   "cell_type": "code",
   "execution_count": 9,
   "metadata": {
    "cell_id": "00020-4a0534a3-4bdc-41a1-ba39-ad35b7f65bf7",
    "deepnote_cell_type": "code"
   },
   "outputs": [
    {
     "name": "stdout",
     "output_type": "stream",
     "text": [
      "Value = [ 2.50812576 -5.91629073]\n",
      "Gradient = [-1.36447336 -1.2       ]\n",
      "Jacobian = [-1.36447336 -1.2       ]\n"
     ]
    }
   ],
   "source": [
    "forward5 = ad.forward([single_f1, single_f2], single_scalar)\n",
    "jacobian5 = ad.Jacobian([single_f1, single_f2], single_scalar)\n",
    "print(f'Value = {forward5.value}\\nGradient = {forward5.gradients}\\nJacobian = {jacobian5}')"
   ]
  },
  {
   "cell_type": "markdown",
   "metadata": {
    "cell_id": "00021-d19d273f-4716-446f-81a3-9df01a59504a",
    "deepnote_cell_type": "markdown"
   },
   "source": [
    "6. *Scalar input – multivariable*"
   ]
  },
  {
   "cell_type": "code",
   "execution_count": 10,
   "metadata": {
    "cell_id": "00022-b61916ae-be2f-4581-a228-36c0a5887730",
    "deepnote_cell_type": "code"
   },
   "outputs": [
    {
     "name": "stdout",
     "output_type": "stream",
     "text": [
      "Value = [  2.00025176 128.        ]\n",
      "Gradient =\n",
      "[[   75.93626795     3.25148556    22.77635519]\n",
      " [18638.55432178 -3278.35924269   359.27716089]]\n",
      "Jacobian =\n",
      "[[  1.77230833  -0.00050352   0.50010834]\n",
      " [448.         -88.72283911   0.        ]]\n"
     ]
    }
   ],
   "source": [
    "forward6 = ad.forward([multi_f1, multi_f2], multi_scalar, multi_seed)\n",
    "jacobian6 = ad.Jacobian([multi_f1, multi_f2], multi_scalar)\n",
    "print(f'Value = {forward6.value}\\nGradient =\\n{forward6.gradients}\\nJacobian =\\n{jacobian6}')"
   ]
  },
  {
   "cell_type": "markdown",
   "metadata": {
    "cell_id": "00023-6971131c-f785-4346-b31e-5341545d9e1e",
    "deepnote_cell_type": "markdown"
   },
   "source": [
    "7. *Vector input – single variable*"
   ]
  },
  {
   "cell_type": "code",
   "execution_count": 11,
   "metadata": {
    "cell_id": "00024-da60b28b-0876-4796-8c82-890b66814e25",
    "deepnote_cell_type": "code"
   },
   "outputs": [
    {
     "name": "stdout",
     "output_type": "stream",
     "text": [
      "Value = [ 1.0001767   4.00001383 27.00000181]\n",
      "Gradient =\n",
      "[[  39.71973508  266.84588701 2131.65265462]\n",
      " [   0.9309197     7.81660606   68.32491303]\n",
      " [   0.94591534   27.31784023  302.32508043]]\n",
      "Jacobian =\n",
      "[[ 0.94572388  6.31776035 50.32506334]\n",
      " [-0.00035341 -0.00002767 -0.00000361]\n",
      " [ 0.00001297  0.50000256  6.00000049]]\n"
     ]
    }
   ],
   "source": [
    "forward7 = ad.forward(multi_f1, multi_vector, multi_seed)\n",
    "jacobian7 = ad.Jacobian(multi_f1, multi_vector)\n",
    "print(f'Value = {forward7.value}\\nGradient =\\n{forward7.gradients}\\nJacobian =\\n{jacobian7}')"
   ]
  },
  {
   "cell_type": "markdown",
   "metadata": {
    "cell_id": "00025-f52919ab-f5dd-4d35-8276-a294ff3cfcc5",
    "deepnote_cell_type": "code"
   },
   "source": [
    "## Extra functionality (optimization)"
   ]
  },
  {
   "cell_type": "markdown",
   "metadata": {},
   "source": [
    "1. *Function minimization*"
   ]
  },
  {
   "cell_type": "code",
   "execution_count": 12,
   "metadata": {},
   "outputs": [
    {
     "data": {
      "text/plain": [
       "array([ 0.22180522, -0.52044627,  4.        ])"
      ]
     },
     "execution_count": 12,
     "metadata": {},
     "output_type": "execute_result"
    }
   ],
   "source": [
    "ad.minimize(multi_f2, [2, 3, 4])"
   ]
  },
  {
   "cell_type": "markdown",
   "metadata": {},
   "source": [
    "2. *Least-squares solution with bounds on the variables*"
   ]
  },
  {
   "cell_type": "code",
   "execution_count": 13,
   "metadata": {},
   "outputs": [
    {
     "data": {
      "text/plain": [
       "array([3.10262252])"
      ]
     },
     "execution_count": 13,
     "metadata": {},
     "output_type": "execute_result"
    }
   ],
   "source": [
    "ad.least_squares(single_f1, 4, bounds=(-4, 10))"
   ]
  },
  {
   "cell_type": "markdown",
   "metadata": {},
   "source": [
    "3. *Root finding*"
   ]
  },
  {
   "cell_type": "code",
   "execution_count": 14,
   "metadata": {},
   "outputs": [
    {
     "data": {
      "text/plain": [
       "array([0.8526055])"
      ]
     },
     "execution_count": 14,
     "metadata": {},
     "output_type": "execute_result"
    }
   ],
   "source": [
    "ad.root(single_f2, 1)"
   ]
  },
  {
   "cell_type": "markdown",
   "metadata": {},
   "source": [
    "## Extra functionality (probability distributions)"
   ]
  },
  {
   "cell_type": "markdown",
   "metadata": {},
   "source": [
    "1. *Log CDF of Normal distribution*"
   ]
  },
  {
   "cell_type": "code",
   "execution_count": 15,
   "metadata": {},
   "outputs": [
    {
     "name": "stdout",
     "output_type": "stream",
     "text": [
      "Value = [-0.36894642 -0.17275378 -0.06914346]\n",
      "Gradient =\n",
      "[0.25458022 0.14379999 0.06939488]\n",
      "Jacobian =\n",
      "[0.25458022 0.14379999 0.06939488]\n"
     ]
    }
   ],
   "source": [
    "forward8 = ad.forward(op.Normal(loc=3, scale=2).logcdf, single_vector)\n",
    "jacobian8 = ad.Jacobian(op.Normal(loc=3, scale=2).logcdf, single_vector)\n",
    "print(f'Value = {forward8.value}\\nGradient =\\n{forward8.gradients}\\nJacobian =\\n{jacobian8}')"
   ]
  },
  {
   "cell_type": "markdown",
   "metadata": {},
   "source": [
    "2. *Joint PDF of multiple variables described by different probability distributions*"
   ]
  },
  {
   "cell_type": "code",
   "execution_count": 16,
   "metadata": {},
   "outputs": [],
   "source": [
    "def joint_probabilities(x, y, z):\n",
    "    return op.Normal(loc=1, scale=1).pdf(x) * op.Gamma(alpha=1, beta=2).pdf(y) * op.Poisson(mu=3).pmf(z)"
   ]
  },
  {
   "cell_type": "code",
   "execution_count": 17,
   "metadata": {},
   "outputs": [
    {
     "name": "stdout",
     "output_type": "stream",
     "text": [
      "Value = [0.00058321 0.00008046 0.00000363]\n",
      "Gradient =\n",
      "[[ 0.00133602  0.00018466  0.00000833]\n",
      " [-0.01032821 -0.00142448 -0.00006426]\n",
      " [ 0.0265776   0.00367138  0.00016565]]\n"
     ]
    }
   ],
   "source": [
    "forward9 = ad.forward(joint_probabilities, multi_vector, multi_seed)\n",
    "print(f'Value = {forward9.value}\\nGradient =\\n{forward9.gradients}')"
   ]
  },
  {
   "cell_type": "markdown",
   "metadata": {},
   "source": [
    "3. *Special functions*"
   ]
  },
  {
   "cell_type": "code",
   "execution_count": 18,
   "metadata": {},
   "outputs": [],
   "source": [
    "def special(x):\n",
    "    return 2*op.gamma(x) - op.erf(x/3)"
   ]
  },
  {
   "cell_type": "code",
   "execution_count": 19,
   "metadata": {},
   "outputs": [
    {
     "name": "stdout",
     "output_type": "stream",
     "text": [
      "Value = [ 11.05934644  47.01842213 239.00467773]\n",
      "Gradient =\n",
      "[ 7.86162591 10.15276722 12.4222929 ]\n"
     ]
    }
   ],
   "source": [
    "forward10 = ad.forward(special, single_vector)\n",
    "print(f'Value = {forward10.value}\\nGradient =\\n{forward10.gradients}')"
   ]
  }
 ],
 "metadata": {
  "deepnote_execution_queue": [],
  "deepnote_notebook_id": "d5f740c9-c198-4408-a573-5435b593c9ca",
  "kernelspec": {
   "display_name": "Python 3",
   "language": "python",
   "name": "python3"
  },
  "language_info": {
   "codemirror_mode": {
    "name": "ipython",
    "version": 3
   },
   "file_extension": ".py",
   "mimetype": "text/x-python",
   "name": "python",
   "nbconvert_exporter": "python",
   "pygments_lexer": "ipython3",
   "version": "3.7.7"
  }
 },
 "nbformat": 4,
 "nbformat_minor": 4
}
